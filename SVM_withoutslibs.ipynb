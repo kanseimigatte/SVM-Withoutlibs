{
  "nbformat": 4,
  "nbformat_minor": 0,
  "metadata": {
    "colab": {
      "provenance": [],
      "collapsed_sections": []
    },
    "kernelspec": {
      "name": "python3",
      "display_name": "Python 3"
    },
    "language_info": {
      "name": "python"
    }
  },
  "cells": [
    {
      "cell_type": "code",
      "execution_count": 1,
      "metadata": {
        "id": "wX2lW1U5U53I"
      },
      "outputs": [],
      "source": [
        "# Created by GB - 10/22\n",
        "# Google Colab was used in this code\n",
        "import numpy as np\n",
        "import pandas as pd\n",
        "import PIL\n",
        "import pathlib\n",
        "import os\n",
        "import random\n",
        "import matplotlib.pyplot as plt\n",
        "import warnings"
      ]
    },
    {
      "cell_type": "code",
      "source": [
        "from google.colab import drive\n",
        "drive.mount('/content/drive/')\n",
        "path1 = r'/content/drive/MyDrive/Colab Notebooks/Images/iron man comics_dir_resized'\n",
        "path2 = r'/content/drive/MyDrive/Colab Notebooks/Images/spider man comics_dir_resized'"
      ],
      "metadata": {
        "colab": {
          "base_uri": "https://localhost:8080/"
        },
        "id": "8QCPb3vJVPcA",
        "outputId": "683319a0-7a52-481c-ffe0-eafd29fab616"
      },
      "execution_count": 2,
      "outputs": [
        {
          "output_type": "stream",
          "name": "stdout",
          "text": [
            "Mounted at /content/drive/\n"
          ]
        }
      ]
    },
    {
      "cell_type": "code",
      "source": [
        "# Converting images to numpy arrays \n",
        "def numpy_arrays(path1,path2):\n",
        "    delimiter = chr(92)\n",
        "    path_list = []\n",
        "    arrays_list1 = []\n",
        "    arrays_list2 = []\n",
        "    path_list.append(path1)\n",
        "    path_list.append(path2)\n",
        "    counter = 0\n",
        "    for paths in range(len(path_list)):\n",
        "        listdir = os.listdir(path_list[paths])\n",
        "        counter += 1\n",
        "        for items in listdir:\n",
        "            items.split()\n",
        "            if counter == 1:\n",
        "                image = PIL.Image.open(path1+'/'+items) #problem with delimiter !WARNING!\n",
        "            else:\n",
        "                image = PIL.Image.open(path2+'/'+items)\n",
        "            image_inf = image.getdata()\n",
        "            sub_array = np.array(image_inf)\n",
        "            if counter == 1:\n",
        "                arrays_list1.append(sub_array)\n",
        "            else:\n",
        "                arrays_list2.append(sub_array)\n",
        "    \n",
        "    ones= np.ones((len(arrays_list1),), dtype=int)\n",
        "    ones = ones.tolist()\n",
        "    zeros= np.zeros((len(arrays_list2),), dtype=int)\n",
        "    zeros = zeros.tolist()\n",
        "    return arrays_list1,arrays_list2,ones,zeros"
      ],
      "metadata": {
        "id": "D9r1kituWIVt"
      },
      "execution_count": 3,
      "outputs": []
    },
    {
      "cell_type": "code",
      "source": [
        "def conc_lists(array1,array2,ones,zeros):\n",
        "    arrayX = array1\n",
        "    arrayY = ones\n",
        "    for i in range(len(array2)):\n",
        "        arrayX.append(array2[i])\n",
        "    for x in range(len(zeros)):\n",
        "        arrayY.append(zeros[x])\n",
        "        \n",
        "    return arrayX, arrayY"
      ],
      "metadata": {
        "id": "Xm0ZmKQB0uQx"
      },
      "execution_count": 4,
      "outputs": []
    },
    {
      "cell_type": "code",
      "source": [
        "def shuffle(X1,X2):\n",
        "    X3 = list(zip(X1,X2))\n",
        "    random.shuffle(X3)\n",
        "    X1,X2 = zip(*X3)\n",
        "    return X1,X2"
      ],
      "metadata": {
        "id": "ZPzCaYCm0uXP"
      },
      "execution_count": 5,
      "outputs": []
    },
    {
      "cell_type": "code",
      "source": [
        "def train_test_split(array1,array2,train_size):\n",
        "        len_array1 = len(array1)\n",
        "        len_array2 = len(array2)\n",
        "        array1_train_size = int(train_size*len_array1)\n",
        "        array2_train_size = int(train_size*len_array2)\n",
        "        X_train = array1[:array1_train_size]\n",
        "        Y_train = array2[:array1_train_size]\n",
        "        X_test = array1[array2_train_size:]\n",
        "        Y_test = array2[array2_train_size:]\n",
        "        return X_train,Y_train,X_test,Y_test"
      ],
      "metadata": {
        "id": "G2281gvn0ueW"
      },
      "execution_count": 6,
      "outputs": []
    },
    {
      "cell_type": "code",
      "source": [
        "# Calculating accuracy\n",
        "def accuracy_s(y_true,y_pred):\n",
        "    len_of_t = len(y_true)\n",
        "    len_of_p = len(y_pred)\n",
        "    true = 0\n",
        "    if len_of_t != len_of_p:\n",
        "        print(\"The sizes are not matched !\")\n",
        "    else:\n",
        "        for _ in range(len_of_t):\n",
        "            if y_true[_]==y_pred[_]:\n",
        "                true += 1\n",
        "    \n",
        "    accuracy = true/len_of_t\n",
        "    return accuracy"
      ],
      "metadata": {
        "id": "wZUZ5sr59ypc"
      },
      "execution_count": 7,
      "outputs": []
    },
    {
      "cell_type": "code",
      "source": [
        "    ## Preparing the data ##\n",
        "\n",
        "# Convert images into numpy arrays #\n",
        "# Concatenate the arrays #\n",
        "# Shuffle #\n",
        "# Split into train and test sets #"
      ],
      "metadata": {
        "id": "7lbqeU7V1Emi"
      },
      "execution_count": 8,
      "outputs": []
    },
    {
      "cell_type": "code",
      "source": [
        "array1,array2,ones,zeros=numpy_arrays(path1,path2)\n",
        "print('class 1 len: ',len(array1))\n",
        "print('class 1 data type: ',type(array1))\n",
        "print('class 1 image size (multiplicated): ',array1[1].shape)\n",
        "print('class 2 len: ',len(array2))\n",
        "print('class 2 data type: ',type(array2))\n",
        "print('class 2 image size (multiplicated): ',array2[1].shape)\n",
        "print('class 1 y len: ',len(ones))"
      ],
      "metadata": {
        "colab": {
          "base_uri": "https://localhost:8080/"
        },
        "id": "FlFkwFEwWUvj",
        "outputId": "c13b0764-e083-4c61-d297-fb791946476a"
      },
      "execution_count": 9,
      "outputs": [
        {
          "output_type": "stream",
          "name": "stdout",
          "text": [
            "class 1 len:  656\n",
            "class 1 data type:  <class 'list'>\n",
            "class 1 image size (multiplicated):  (160000,)\n",
            "class 2 len:  656\n",
            "class 2 data type:  <class 'list'>\n",
            "class 2 image size (multiplicated):  (160000,)\n",
            "class 1 y len:  656\n"
          ]
        }
      ]
    },
    {
      "cell_type": "code",
      "source": [
        "# This part is used to concancate class arrays and their y values\n",
        "arrayX,arrayY = conc_lists(array1,array2,ones,zeros)\n",
        "len(arrayY)"
      ],
      "metadata": {
        "colab": {
          "base_uri": "https://localhost:8080/"
        },
        "id": "olcTbsbU0-HM",
        "outputId": "ea0aabef-acb3-4568-8663-263bf805cca1"
      },
      "execution_count": 10,
      "outputs": [
        {
          "output_type": "execute_result",
          "data": {
            "text/plain": [
              "1312"
            ]
          },
          "metadata": {},
          "execution_count": 10
        }
      ]
    },
    {
      "cell_type": "code",
      "source": [
        "# This part is used to shuffle all data with same way.\n",
        "# After running, we have more realistic data to classificate\n",
        "array_X,array_Y = shuffle(arrayX,arrayY)\n",
        "len(array_X)"
      ],
      "metadata": {
        "colab": {
          "base_uri": "https://localhost:8080/"
        },
        "id": "GOJ8yq7T0-JZ",
        "outputId": "f85d889d-e66d-474d-f1a9-ab788c9ec208"
      },
      "execution_count": 11,
      "outputs": [
        {
          "output_type": "execute_result",
          "data": {
            "text/plain": [
              "1312"
            ]
          },
          "metadata": {},
          "execution_count": 11
        }
      ]
    },
    {
      "cell_type": "code",
      "source": [
        "# This part is to split the data into train and test datas.\n",
        "train_X,train_Y,test_X,test_Y=train_test_split(array_X,array_Y,train_size=0.9)\n",
        "print('length of X values of train data: ',len(train_X))\n",
        "print('length of Y values of train data: ',len(train_Y))\n",
        "print('length of X values of test data: ',len(test_X))\n",
        "print('length of Y values of test data: ',len(test_Y))\n",
        "train_X = np.array(train_X)\n",
        "train_Y = np.array(train_Y)\n",
        "test_X = np.array(test_X)\n",
        "test_Y = np.array(test_Y)"
      ],
      "metadata": {
        "colab": {
          "base_uri": "https://localhost:8080/"
        },
        "id": "SyoZ4P-P12Wh",
        "outputId": "6106bb5a-41b0-4138-802a-176790e59cef"
      },
      "execution_count": 12,
      "outputs": [
        {
          "output_type": "stream",
          "name": "stdout",
          "text": [
            "length of X values of train data:  1180\n",
            "length of Y values of train data:  1180\n",
            "length of X values of test data:  132\n",
            "length of Y values of test data:  132\n"
          ]
        }
      ]
    },
    {
      "cell_type": "code",
      "source": [
        "# Normalizing the datas #\n",
        "# Normalizing the datas #\n",
        "standard_X_train =  (train_X - np.average(train_X)) / (np.std(train_X))\n",
        "standard_X_test =  (test_X - np.average(test_X)) / (np.std(test_X))"
      ],
      "metadata": {
        "id": "uasWb2K3_hi5"
      },
      "execution_count": 13,
      "outputs": []
    },
    {
      "cell_type": "code",
      "source": [
        "### Classification with Hard Margin - Support Vector Machine ###"
      ],
      "metadata": {
        "id": "4GiV8JpF12Yt"
      },
      "execution_count": null,
      "outputs": []
    },
    {
      "cell_type": "code",
      "source": [
        "# Parameter initialization #\n",
        "param_init = {}\n",
        "param_init[\"w\"] = np.random.randn(train_X.shape[1]) * 0.1\n",
        "param_init[\"b\"] = 0"
      ],
      "metadata": {
        "id": "72ZxwjCn9ymx"
      },
      "execution_count": 14,
      "outputs": []
    },
    {
      "cell_type": "code",
      "source": [
        "def SVM(X,y,parameters,learning_rate,epochs,hmlambda):\n",
        "    w = parameters[\"w\"]\n",
        "    b = parameters[\"b\"]\n",
        "    loss_list = []\n",
        "    y_l = np.where(y <= 0, -1,1)\n",
        "\n",
        "    for _ in range(epochs):\n",
        "        for i, x in enumerate(X):\n",
        "            cond = y_l[i] * (np.dot(x,w) - b) >= 1\n",
        "            if cond == True:\n",
        "                dw = 2 * hmlambda * w\n",
        "                db = 0\n",
        "            else:\n",
        "                dw = 2 * hmlambda * w - np.dot(x,y_l[i])\n",
        "                db = y_l[i] \n",
        "\n",
        "            w = w - learning_rate * dw\n",
        "            b = b - learning_rate * db\n",
        "        \n",
        "    parameters[\"w\"] = w\n",
        "    parameters[\"b\"] = b\n",
        "    return parameters"
      ],
      "metadata": {
        "id": "Jvl3VaDZ9yuR"
      },
      "execution_count": 17,
      "outputs": []
    },
    {
      "cell_type": "code",
      "source": [
        "warnings.filterwarnings('ignore')\n",
        "learning_rate = 0.01\n",
        "epochs = 500\n",
        "hmlambda = 0.01\n",
        "parameters = SVM(standard_X_train,train_Y, param_init, learning_rate, epochs, hmlambda)"
      ],
      "metadata": {
        "id": "gc1eKGAcF-c2"
      },
      "execution_count": 18,
      "outputs": []
    },
    {
      "cell_type": "code",
      "source": [
        "out = np.dot(standard_X_test, parameters[\"w\"]) + parameters[\"b\"]\n",
        "labels = np.sign(out)\n",
        "y_pred = np.where(labels <= -1,0,1)\n",
        "accuracy = accuracy_s(test_Y,y_pred)\n",
        "accuracy"
      ],
      "metadata": {
        "id": "nvi50eZbGhMx",
        "colab": {
          "base_uri": "https://localhost:8080/"
        },
        "outputId": "49b2bdee-57ea-45d0-dc43-c9afe4a03ffe"
      },
      "execution_count": 19,
      "outputs": [
        {
          "output_type": "execute_result",
          "data": {
            "text/plain": [
              "0.45454545454545453"
            ]
          },
          "metadata": {},
          "execution_count": 19
        }
      ]
    },
    {
      "cell_type": "code",
      "source": [
        "# Sklearn Example 1\n",
        "from sklearn.preprocessing import StandardScaler\n",
        "from sklearn import svm\n",
        "from sklearn.metrics import accuracy_score\n",
        "\n",
        "svm_class = svm.SVC(kernel='linear')\n",
        "svm_class.fit(standard_X_train, train_Y)\n",
        "pred_svm = svm_class.predict(standard_X_test)\n",
        "accuracy_sk = accuracy_score(test_Y, pred_svm)\n",
        "accuracy_sk\n"
      ],
      "metadata": {
        "colab": {
          "base_uri": "https://localhost:8080/"
        },
        "id": "yETG1aPVPvlk",
        "outputId": "0a6a1d7a-f6a5-4111-ed5f-e6e14a87ba89"
      },
      "execution_count": 20,
      "outputs": [
        {
          "output_type": "execute_result",
          "data": {
            "text/plain": [
              "0.48484848484848486"
            ]
          },
          "metadata": {},
          "execution_count": 20
        }
      ]
    },
    {
      "cell_type": "code",
      "source": [
        "# Sklearn Example 2\n",
        "from sklearn.preprocessing import StandardScaler\n",
        "from sklearn import svm\n",
        "from sklearn.metrics import accuracy_score\n",
        "\n",
        "svm_class = svm.SVC(kernel='poly')\n",
        "svm_class.fit(standard_X_train, train_Y)\n",
        "pred_svm = svm_class.predict(standard_X_test)\n",
        "accuracy_sk = accuracy_score(test_Y, pred_svm)\n",
        "accuracy_sk"
      ],
      "metadata": {
        "colab": {
          "base_uri": "https://localhost:8080/"
        },
        "id": "tEOznELotKKm",
        "outputId": "9fc7aea4-102e-450a-8b40-a081ad8a03b1"
      },
      "execution_count": 21,
      "outputs": [
        {
          "output_type": "execute_result",
          "data": {
            "text/plain": [
              "0.5227272727272727"
            ]
          },
          "metadata": {},
          "execution_count": 21
        }
      ]
    }
  ]
}